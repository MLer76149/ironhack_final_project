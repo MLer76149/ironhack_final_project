{
 "cells": [
  {
   "cell_type": "code",
   "execution_count": 60,
   "metadata": {},
   "outputs": [],
   "source": [
    "import pandas as pd\n",
    "import numpy as np\n",
    "from langdetect import detect\n",
    "import re"
   ]
  },
  {
   "cell_type": "code",
   "execution_count": 7,
   "metadata": {},
   "outputs": [],
   "source": [
    "file_names = [\"CA\", \"DE\", \"FR\", \"GB\", \"IN\", \"JP\", \"KR\", \"MX\", \"RU\", \"US\"]"
   ]
  },
  {
   "cell_type": "code",
   "execution_count": 19,
   "metadata": {},
   "outputs": [],
   "source": [
    "youtube_ca = pd.read_csv(\"youtube_raw_data/CAvideos.csv\")"
   ]
  },
  {
   "cell_type": "code",
   "execution_count": 80,
   "metadata": {},
   "outputs": [],
   "source": [
    "def drop_and_safe(country_list):\n",
    "    for country in country_list:\n",
    "        try: \n",
    "            filename = country+\"videos.csv\"\n",
    "            df = pd.read_csv(\"youtube_raw_data/\"+filename)\n",
    "            df = df.drop(columns=[\"comments_disabled\", \"ratings_disabled\", \"video_error_or_removed\"])\n",
    "            df.to_csv(\"youtube_raw_data/\"+country+\"videos_dropped.csv\", index = False)\n",
    "        except:\n",
    "            print(\"Error with \" + country)\n"
   ]
  },
  {
   "cell_type": "code",
   "execution_count": 81,
   "metadata": {},
   "outputs": [
    {
     "name": "stdout",
     "output_type": "stream",
     "text": [
      "Error with JP\n",
      "Error with KR\n",
      "Error with MX\n",
      "Error with RU\n"
     ]
    }
   ],
   "source": [
    "drop_and_safe(file_names)"
   ]
  },
  {
   "cell_type": "code",
   "execution_count": 54,
   "metadata": {},
   "outputs": [],
   "source": [
    "youtube_mx_1 = pd.read_csv(\"youtube_raw_data/MXvideos.csv\", encoding=\"iso-8859-1\")"
   ]
  },
  {
   "cell_type": "code",
   "execution_count": 58,
   "metadata": {},
   "outputs": [],
   "source": [
    "youtube_mx_2 = pd.read_csv(\"youtube_raw_data/MXvideos.csv\", encoding=\"cp720\")"
   ]
  },
  {
   "cell_type": "code",
   "execution_count": 75,
   "metadata": {},
   "outputs": [],
   "source": [
    "youtube_mx_2 = youtube_mx_2.drop(columns=[\"comments_disabled\", \"ratings_disabled\", \"video_error_or_removed\"])"
   ]
  },
  {
   "cell_type": "code",
   "execution_count": 76,
   "metadata": {},
   "outputs": [],
   "source": [
    "youtube_mx_2.to_csv(\"youtube_raw_data/MXvideos_dropped.csv\", index = False)"
   ]
  },
  {
   "cell_type": "code",
   "execution_count": null,
   "metadata": {},
   "outputs": [],
   "source": []
  },
  {
   "cell_type": "code",
   "execution_count": 71,
   "metadata": {},
   "outputs": [
    {
     "name": "stdout",
     "output_type": "stream",
     "text": [
      "error: 'ascii' codec can't decode byte 0xd0 in position 215: ordinal not in range(128)\n",
      "error: 'big5' codec can't decode byte 0xd0 in position 215: illegal multibyte sequence\n",
      "error: 'big5hkscs' codec can't decode byte 0xd0 in position 215: illegal multibyte sequence\n",
      "error: Error tokenizing data. C error: Expected 4 fields in line 3, saw 10\n",
      "\n",
      "error: Error tokenizing data. C error: Expected 4 fields in line 3, saw 10\n",
      "\n",
      "error: 'charmap' codec can't decode byte 0x76 in position 0: character maps to <undefined>\n",
      "cp437\n",
      "error: Error tokenizing data. C error: Expected 4 fields in line 3, saw 10\n",
      "\n",
      "cp720\n",
      "cp737\n",
      "cp775\n",
      "cp850\n",
      "cp852\n",
      "cp855\n",
      "error: 'charmap' codec can't decode byte 0xd0 in position 215: character maps to <undefined>\n",
      "error: 'charmap' codec can't decode byte 0xd5 in position 143390: character maps to <undefined>\n",
      "cp858\n",
      "cp860\n",
      "cp861\n",
      "cp862\n",
      "cp863\n",
      "error: 'charmap' codec can't decode byte 0x9f in position 230: character maps to <undefined>\n",
      "cp865\n",
      "cp866\n",
      "error: 'charmap' codec can't decode byte 0x85 in position 220: character maps to <undefined>\n",
      "error: 'charmap' codec can't decode byte 0x9f in position 230: character maps to <undefined>\n",
      "error: Error tokenizing data. C error: Expected 4 fields in line 3, saw 10\n",
      "\n",
      "error: 'cp932' codec can't decode byte 0x85 in position 220: illegal multibyte sequence\n",
      "error: 'cp949' codec can't decode byte 0xd0 in position 215: illegal multibyte sequence\n",
      "error: 'cp950' codec can't decode byte 0xd0 in position 215: illegal multibyte sequence\n",
      "cp1006\n",
      "error: Error tokenizing data. C error: Expected 4 fields in line 3, saw 10\n",
      "\n",
      "cp1125\n",
      "error: Error tokenizing data. C error: Expected 4 fields in line 3, saw 10\n",
      "\n",
      "error: 'charmap' codec can't decode byte 0x83 in position 243: character maps to <undefined>\n",
      "error: 'charmap' codec can't decode byte 0x98 in position 3749: character maps to <undefined>\n",
      "error: 'charmap' codec can't decode byte 0x81 in position 251: character maps to <undefined>\n",
      "error: 'charmap' codec can't decode byte 0x9f in position 230: character maps to <undefined>\n",
      "error: 'charmap' codec can't decode byte 0x81 in position 251: character maps to <undefined>\n",
      "error: 'charmap' codec can't decode byte 0x9f in position 230: character maps to <undefined>\n",
      "cp1256\n",
      "error: 'charmap' codec can't decode byte 0x9f in position 230: character maps to <undefined>\n",
      "error: 'charmap' codec can't decode byte 0x81 in position 251: character maps to <undefined>\n",
      "error: 'euc_jp' codec can't decode byte 0xd0 in position 215: illegal multibyte sequence\n",
      "error: 'euc_jis_2004' codec can't decode byte 0xd0 in position 215: illegal multibyte sequence\n",
      "error: 'euc_jisx0213' codec can't decode byte 0xd0 in position 215: illegal multibyte sequence\n",
      "error: 'euc_kr' codec can't decode byte 0xd0 in position 215: illegal multibyte sequence\n",
      "error: 'gb2312' codec can't decode byte 0xd0 in position 215: illegal multibyte sequence\n",
      "error: 'gbk' codec can't decode byte 0x96 in position 280: illegal multibyte sequence\n",
      "error: 'gb18030' codec can't decode byte 0x96 in position 280: illegal multibyte sequence\n",
      "error: 'hz' codec can't decode byte 0xd0 in position 215: illegal multibyte sequence\n",
      "error: 'iso2022_jp' codec can't decode byte 0xd0 in position 215: illegal multibyte sequence\n",
      "error: 'iso2022_jp_1' codec can't decode byte 0xd0 in position 215: illegal multibyte sequence\n",
      "error: 'iso2022_jp_2' codec can't decode byte 0xd0 in position 215: illegal multibyte sequence\n",
      "error: 'iso2022_jp_2004' codec can't decode byte 0xd0 in position 215: illegal multibyte sequence\n",
      "error: 'iso2022_jp_3' codec can't decode byte 0xd0 in position 215: illegal multibyte sequence\n",
      "error: 'iso2022_jp_ext' codec can't decode byte 0xd0 in position 215: illegal multibyte sequence\n",
      "error: 'iso2022_kr' codec can't decode byte 0xd0 in position 215: illegal multibyte sequence\n",
      "latin_1\n",
      "iso8859_2\n",
      "error: 'charmap' codec can't decode byte 0xd0 in position 215: character maps to <undefined>\n",
      "iso8859_4\n",
      "iso8859_5\n",
      "error: 'charmap' codec can't decode byte 0xb0 in position 218: character maps to <undefined>\n",
      "error: 'charmap' codec can't decode byte 0xae in position 3933: character maps to <undefined>\n",
      "error: 'charmap' codec can't decode byte 0xd0 in position 215: character maps to <undefined>\n",
      "iso8859_9\n",
      "iso8859_10\n",
      "error: 'charmap' codec can't decode byte 0xdb in position 251711: character maps to <undefined>\n",
      "iso8859_13\n",
      "iso8859_14\n",
      "iso8859_15\n",
      "iso8859_16\n",
      "error: 'johab' codec can't decode byte 0xd1 in position 223: illegal multibyte sequence\n",
      "koi8_r\n",
      "error: 'charmap' codec can't decode byte 0xb8 in position 227: character maps to <undefined>\n",
      "koi8_u\n",
      "error: 'charmap' codec can't decode byte 0x98 in position 3749: character maps to <undefined>\n",
      "mac_cyrillic\n",
      "mac_greek\n",
      "mac_iceland\n",
      "mac_latin2\n",
      "mac_roman\n",
      "mac_turkish\n",
      "ptcp154\n",
      "error: 'shift_jis' codec can't decode byte 0x85 in position 220: illegal multibyte sequence\n",
      "error: 'shift_jis_2004' codec can't decode byte 0x80 in position 224: illegal multibyte sequence\n",
      "error: 'shift_jisx0213' codec can't decode byte 0x80 in position 224: illegal multibyte sequence\n",
      "error: 'utf-32-le' codec can't decode bytes in position 0-3: code point not in range(0x110000)\n",
      "error: 'utf-32-be' codec can't decode bytes in position 0-3: code point not in range(0x110000)\n",
      "error: 'utf-32-le' codec can't decode bytes in position 0-3: code point not in range(0x110000)\n",
      "error: 'utf-16-le' codec can't decode bytes in position 251542-251543: illegal UTF-16 surrogate\n",
      "error: 'utf-16-be' codec can't decode bytes in position 251270-251271: illegal UTF-16 surrogate\n",
      "error: 'utf-16-le' codec can't decode bytes in position 251542-251543: illegal UTF-16 surrogate\n",
      "error: 'utf7' codec can't decode byte 0xd0 in position 215: unexpected special character\n",
      "error: 'utf-8' codec can't decode byte 0xd0 in position 364767: invalid continuation byte\n",
      "error: 'utf-8' codec can't decode byte 0xd0 in position 364767: invalid continuation byte\n"
     ]
    }
   ],
   "source": [
    "encode_list = ['ascii','big5','big5hkscs','cp037','cp273','cp424','cp437','cp500','cp720','cp737','cp775','cp850','cp852','cp855','cp856','cp857','cp858','cp860','cp861','cp862','cp863','cp864','cp865','cp866','cp869','cp874','cp875','cp932','cp949','cp950','cp1006','cp1026','cp1125','cp1140','cp1250','cp1251','cp1252','cp1253','cp1254','cp1255','cp1256','cp1257','cp1258','euc_jp','euc_jis_2004','euc_jisx0213','euc_kr','gb2312','gbk','gb18030','hz','iso2022_jp','iso2022_jp_1','iso2022_jp_2','iso2022_jp_2004','iso2022_jp_3','iso2022_jp_ext','iso2022_kr','latin_1','iso8859_2','iso8859_3','iso8859_4','iso8859_5','iso8859_6','iso8859_7','iso8859_8','iso8859_9','iso8859_10','iso8859_11','iso8859_13','iso8859_14','iso8859_15','iso8859_16','johab','koi8_r','koi8_t','koi8_u','kz1048','mac_cyrillic','mac_greek','mac_iceland','mac_latin2','mac_roman','mac_turkish','ptcp154','shift_jis','shift_jis_2004','shift_jisx0213','utf_32','utf_32_be','utf_32_le','utf_16','utf_16_be','utf_16_le','utf_7','utf_8','utf_8_sig']\n",
    "\n",
    "for encode in encode_list:\n",
    "\n",
    "    try:\n",
    "\n",
    "        df= pd.read_csv(\"youtube_raw_data/RUvideos.csv\", encoding = encode)\n",
    "        print(encode)\n",
    "\n",
    "    except Exception as e:\n",
    "        print(f\"error: {e}\")\n",
    "        pass"
   ]
  }
 ],
 "metadata": {
  "kernelspec": {
   "display_name": "Python 3",
   "language": "python",
   "name": "python3"
  },
  "language_info": {
   "codemirror_mode": {
    "name": "ipython",
    "version": 3
   },
   "file_extension": ".py",
   "mimetype": "text/x-python",
   "name": "python",
   "nbconvert_exporter": "python",
   "pygments_lexer": "ipython3",
   "version": "3.8.3"
  }
 },
 "nbformat": 4,
 "nbformat_minor": 4
}
