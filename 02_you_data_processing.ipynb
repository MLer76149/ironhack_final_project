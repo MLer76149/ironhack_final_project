{
 "cells": [
  {
   "cell_type": "code",
   "execution_count": 6,
   "metadata": {},
   "outputs": [],
   "source": [
    "import pandas as pd\n",
    "import numpy as np\n",
    "from langdetect import detect\n",
    "import re\n",
    "from bs4 import BeautifulSoup"
   ]
  },
  {
   "cell_type": "code",
   "execution_count": 7,
   "metadata": {},
   "outputs": [],
   "source": [
    "youtube_de = pd.read_csv(\"youtube_raw_data/DEvideos_dropped.csv\")"
   ]
  },
  {
   "cell_type": "code",
   "execution_count": 8,
   "metadata": {},
   "outputs": [],
   "source": [
    "file_names = [\"CA\", \"DE\", \"FR\", \"GB\", \"IN\", \"MX\", \"US\"]"
   ]
  },
  {
   "cell_type": "code",
   "execution_count": 9,
   "metadata": {},
   "outputs": [],
   "source": [
    "file_names_test = [\"CA\"]"
   ]
  },
  {
   "cell_type": "code",
   "execution_count": 12,
   "metadata": {},
   "outputs": [],
   "source": [
    "def identify_language(country_list):\n",
    "    \n",
    "    for country in country_list:\n",
    "        filename = country+\"videos_dropped.csv\"\n",
    "        df = pd.read_csv(\"youtube_raw_data/\"+filename)\n",
    "        df[\"raw_text\"] = df[\"title\"] + df[\"tags\"] + df[\"description\"]\n",
    "        df[\"raw_language\"] = \"\"\n",
    "        for i, text in enumerate(df[\"raw_text\"]):\n",
    "            try:\n",
    "                df.loc[i,\"raw_language\"] = detect(text)\n",
    "            except:\n",
    "                df.loc[i,\"raw_language\"] = np.nan\n",
    "        df.to_csv(\"youtube_processed_data/\"+country+\"videos_processed.csv\", index = False)\n",
    "        "
   ]
  },
  {
   "cell_type": "code",
   "execution_count": 13,
   "metadata": {},
   "outputs": [],
   "source": [
    "identify_language(file_names)"
   ]
  }
 ],
 "metadata": {
  "kernelspec": {
   "display_name": "Python 3",
   "language": "python",
   "name": "python3"
  },
  "language_info": {
   "codemirror_mode": {
    "name": "ipython",
    "version": 3
   },
   "file_extension": ".py",
   "mimetype": "text/x-python",
   "name": "python",
   "nbconvert_exporter": "python",
   "pygments_lexer": "ipython3",
   "version": "3.8.3"
  }
 },
 "nbformat": 4,
 "nbformat_minor": 4
}
