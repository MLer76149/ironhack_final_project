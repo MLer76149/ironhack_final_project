{
 "cells": [
  {
   "cell_type": "code",
   "execution_count": 1,
   "metadata": {},
   "outputs": [],
   "source": [
    "import pandas as pd\n",
    "import numpy as np"
   ]
  },
  {
   "cell_type": "code",
   "execution_count": 2,
   "metadata": {},
   "outputs": [],
   "source": [
    "file_names = [\"CA\", \"DE\", \"FR\", \"GB\", \"IN\", \"MX\", \"US\"]"
   ]
  },
  {
   "cell_type": "code",
   "execution_count": 3,
   "metadata": {},
   "outputs": [],
   "source": [
    "def final_clean(country_list):\n",
    "    for country in country_list:\n",
    "        filename = country+\"videos_cleaned.csv\"\n",
    "        df = pd.read_csv(\"youtube_processed_data/\"+filename)\n",
    "        df = df.drop(columns=[\"title\", \"channel_title\", \"tags\", \"description\", \"raw_text\"])\n",
    "        df[\"likes_rate\"] = df[\"likes\"]/df[\"views\"]\n",
    "        df[\"dislikes_rate\"] = df[\"dislikes\"]/df[\"views\"]\n",
    "        df.to_csv(\"youtube_final_cleaned_data/\"+country+\"videos_final_cleaned.csv\", index = False)"
   ]
  },
  {
   "cell_type": "code",
   "execution_count": null,
   "metadata": {},
   "outputs": [],
   "source": [
    "final_clean(file_names_part3)"
   ]
  }
 ],
 "metadata": {
  "kernelspec": {
   "display_name": "Python 3",
   "language": "python",
   "name": "python3"
  },
  "language_info": {
   "codemirror_mode": {
    "name": "ipython",
    "version": 3
   },
   "file_extension": ".py",
   "mimetype": "text/x-python",
   "name": "python",
   "nbconvert_exporter": "python",
   "pygments_lexer": "ipython3",
   "version": "3.8.3"
  }
 },
 "nbformat": 4,
 "nbformat_minor": 4
}
