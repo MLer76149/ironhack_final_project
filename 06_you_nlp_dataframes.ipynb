{
 "cells": [
  {
   "cell_type": "code",
   "execution_count": 1,
   "metadata": {},
   "outputs": [],
   "source": [
    "import pandas as pd\n",
    "import numpy as np\n",
    "import json\n",
    "import plotly.express as px\n",
    "import pickle\n",
    "import you_plot as yp"
   ]
  },
  {
   "cell_type": "code",
   "execution_count": 9,
   "metadata": {},
   "outputs": [],
   "source": [
    "plot_ca = yp.create_category_dict(\"CA_EN\", \"CA\")\n",
    "plot_de = yp.create_category_dict(\"DE_DE\", \"DE\")\n",
    "plot_fr = yp.create_category_dict(\"FR_FR\", \"FR\")\n",
    "plot_gb = yp.create_category_dict(\"GB_EN\", \"GB\")\n",
    "plot_in = yp.create_category_dict(\"IN_EN\", \"IN\")\n",
    "plot_us = yp.create_category_dict(\"US_EN\", \"US\")"
   ]
  },
  {
   "cell_type": "code",
   "execution_count": 2,
   "metadata": {},
   "outputs": [],
   "source": [
    "plot_ca = yp.create_language_dict(\"CA\")\n",
    "plot_de = yp.create_language_dict(\"DE\")\n",
    "plot_fr = yp.create_language_dict(\"FR\")\n",
    "plot_gb = yp.create_language_dict(\"GB\")\n",
    "plot_in = yp.create_language_dict(\"IN\")\n",
    "plot_us = yp.create_language_dict(\"US\")"
   ]
  },
  {
   "cell_type": "code",
   "execution_count": 2,
   "metadata": {},
   "outputs": [],
   "source": [
    "plot_ca = yp.create_empty_df(\"CA_EN\")\n",
    "plot_de = yp.create_empty_df(\"DE_DE\")\n",
    "plot_fr = yp.create_empty_df(\"FR_FR\")\n",
    "plot_gb = yp.create_empty_df(\"GB_EN\")\n",
    "plot_in = yp.create_empty_df(\"IN_EN\")\n",
    "plot_us = yp.create_empty_df(\"US_EN\")"
   ]
  },
  {
   "cell_type": "code",
   "execution_count": 9,
   "metadata": {},
   "outputs": [
    {
     "name": "stdout",
     "output_type": "stream",
     "text": [
      "Likes R2: 0.8119930879072952\n",
      "Likes MAE: 21872.411271275\n",
      "Likes_Rate R2: 0.7949438432902199\n",
      "Likes_Rate MAE: 0.006013823398763\n",
      "Views R2: 0.7422803938523046\n",
      "Views MAE: 903009.446186654\n"
     ]
    }
   ],
   "source": [
    "yp.create_error_dict(\"US_EN\")"
   ]
  },
  {
   "cell_type": "code",
   "execution_count": 3,
   "metadata": {},
   "outputs": [],
   "source": [
    "with open(\"final_models/error_dict_CA_EN.json\") as f:\n",
    "        data = json.load(f)\n",
    "    "
   ]
  },
  {
   "cell_type": "code",
   "execution_count": 4,
   "metadata": {},
   "outputs": [
    {
     "data": {
      "text/plain": [
       "{'likes': {'R2': 0.7, 'MAE': 22815.93},\n",
       " 'likes_rate': {'R2': 0.56, 'MAE': 0.01},\n",
       " 'views': {'R2': 0.66, 'MAE': 758065.71}}"
      ]
     },
     "execution_count": 4,
     "metadata": {},
     "output_type": "execute_result"
    }
   ],
   "source": [
    "data"
   ]
  },
  {
   "cell_type": "code",
   "execution_count": 136,
   "metadata": {},
   "outputs": [],
   "source": [
    "#df = pd.read_csv(\"youtube_raw_data/USvideos.csv\")"
   ]
  },
  {
   "cell_type": "code",
   "execution_count": 138,
   "metadata": {},
   "outputs": [],
   "source": [
    "#df_cat = pd.read_csv(\"plot_df/plot_cat_US_EN.csv\")"
   ]
  },
  {
   "cell_type": "code",
   "execution_count": 142,
   "metadata": {},
   "outputs": [],
   "source": [
    "#df[df[\"category_id\"] == 1]"
   ]
  },
  {
   "cell_type": "code",
   "execution_count": 143,
   "metadata": {},
   "outputs": [],
   "source": [
    "#df_cat"
   ]
  },
  {
   "cell_type": "code",
   "execution_count": 10,
   "metadata": {},
   "outputs": [],
   "source": [
    "r2 = data[\"likes\"][\"R2\"]"
   ]
  },
  {
   "cell_type": "code",
   "execution_count": 11,
   "metadata": {},
   "outputs": [
    {
     "data": {
      "text/plain": [
       "0.7"
      ]
     },
     "execution_count": 11,
     "metadata": {},
     "output_type": "execute_result"
    }
   ],
   "source": [
    "r2"
   ]
  },
  {
   "cell_type": "code",
   "execution_count": null,
   "metadata": {},
   "outputs": [],
   "source": []
  }
 ],
 "metadata": {
  "kernelspec": {
   "display_name": "Python 3",
   "language": "python",
   "name": "python3"
  },
  "language_info": {
   "codemirror_mode": {
    "name": "ipython",
    "version": 3
   },
   "file_extension": ".py",
   "mimetype": "text/x-python",
   "name": "python",
   "nbconvert_exporter": "python",
   "pygments_lexer": "ipython3",
   "version": "3.8.3"
  }
 },
 "nbformat": 4,
 "nbformat_minor": 4
}
